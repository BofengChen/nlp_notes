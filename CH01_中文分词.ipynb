{
 "cells": [
  {
   "cell_type": "markdown",
   "metadata": {},
   "source": [
    "# 匹配算法"
   ]
  },
  {
   "cell_type": "markdown",
   "metadata": {},
   "source": [
    "## 正向最大匹配法"
   ]
  },
  {
   "cell_type": "code",
   "execution_count": null,
   "metadata": {},
   "outputs": [],
   "source": [
    "# -*-coding:utf-8 -*-\n",
    "class MM(object):\n",
    "    def __init__(self):\n",
    "        self.window_size=3\n",
    "    \n",
    "    def cut(self, text):\n",
    "        result = []\n",
    "        index=0\n",
    "        text_length = len(text)\n",
    "        dic = [u'研究', u'研究生',u'生命',u'命',u'的',u'起源']\n",
    "        while text_length > index:\n",
    "            for size in range(self.window_size + index, index, -1):\n",
    "                piece = text[index:size]\n",
    "#                 print [index, size]\n",
    "#                 print piece\n",
    "                if piece in dic:\n",
    "                    index = size\n",
    "#                     index = size - 1\n",
    "\n",
    "                    break\n",
    "#             index = index + 1\n",
    "            result.append(piece)\n",
    "        return result\n",
    "\n",
    "if __name__=='__main__':\n",
    "    text=u'研究生命的起源'\n",
    "    tokenizer = MM()\n",
    "    print '/'.join(tokenizer.cut(text))"
   ]
  },
  {
   "cell_type": "markdown",
   "metadata": {},
   "source": [
    "## 逆向最大匹配法"
   ]
  },
  {
   "cell_type": "code",
   "execution_count": 33,
   "metadata": {},
   "outputs": [
    {
     "name": "stdout",
     "output_type": "stream",
     "text": [
      "研究/生命/的/起源\n"
     ]
    }
   ],
   "source": [
    "\n",
    "# -*-coding:utf-8 -*-\n",
    "class RMM(object):\n",
    "    def __init__(self):\n",
    "        self.window_size=3\n",
    "    \n",
    "    def cut(self, text):\n",
    "        result = []\n",
    "        index = len(text)\n",
    "        dic = [u'研究', u'研究生',u'生命',u'命',u'的',u'起源']\n",
    "        while index > 0:\n",
    "            for size in range(index - self.window_size, index):\n",
    "                piece = text[size:index]\n",
    "#                 print [size,index]\n",
    "#                 print piece\n",
    "                if piece in dic:\n",
    "#                     index = size + 1\n",
    "                    index = size\n",
    "                    break\n",
    "#             index = index - 1\n",
    "            result.append(piece)\n",
    "        result.reverse()\n",
    "        return result\n",
    "\n",
    "if __name__=='__main__':\n",
    "    text=u'研究生命的起源'\n",
    "    tokenizer = RMM()\n",
    "    print '/'.join(tokenizer.cut(text))"
   ]
  },
  {
   "cell_type": "markdown",
   "metadata": {},
   "source": [
    "## 双向最大匹配法"
   ]
  },
  {
   "cell_type": "code",
   "execution_count": 37,
   "metadata": {
    "deletable": false,
    "editable": false,
    "run_control": {
     "frozen": true
    }
   },
   "outputs": [
    {
     "name": "stdout",
     "output_type": "stream",
     "text": [
      "研究/生命/的/起源\n"
     ]
    }
   ],
   "source": [
    "\n",
    "class BMM(MM, RMM):\n",
    "    def __init__(self, MM, RMM):\n",
    "        self.MM = MM\n",
    "        self.RMM = RMM\n",
    "\n",
    "\n",
    "    def cut(self, text):\n",
    "        mm = self.MM.cut(text)\n",
    "        rmm = self.RMM.cut(text)\n",
    "        if len(mm) != len(rmm):\n",
    "            return mm if len(mm) < len(rmm) else rmm\n",
    "        else:\n",
    "            if mm == rmm:\n",
    "                return mm\n",
    "            else:\n",
    "                w = map(lambda y: len(filter(lambda x: len(x) == 1, y)), [mm, rmm])\n",
    "                return mm if w[0] < w[1] else rmm\n",
    "\n",
    "if __name__=='__main__':\n",
    "    text=u'研究生命的起源'\n",
    "    tokenizer_MM = MM()\n",
    "    tokenizer_RMM = RMM()\n",
    "    tokenizer = BMM(tokenizer_MM, tokenizer_RMM)\n",
    "    print '/'.join(tokenizer.cut(text))            "
   ]
  },
  {
   "cell_type": "code",
   "execution_count": null,
   "metadata": {},
   "outputs": [],
   "source": []
  }
 ],
 "metadata": {
  "kernelspec": {
   "display_name": "Python 3",
   "language": "python",
   "name": "python3"
  },
  "toc": {
   "base_numbering": 1,
   "nav_menu": {},
   "number_sections": true,
   "sideBar": true,
   "skip_h1_title": false,
   "title_cell": "Table of Contents",
   "title_sidebar": "Contents",
   "toc_cell": false,
   "toc_position": {},
   "toc_section_display": true,
   "toc_window_display": true
  },
  "varInspector": {
   "cols": {
    "lenName": 16,
    "lenType": 16,
    "lenVar": 40
   },
   "kernels_config": {
    "python": {
     "delete_cmd_postfix": "",
     "delete_cmd_prefix": "del ",
     "library": "var_list.py",
     "varRefreshCmd": "print(var_dic_list())"
    },
    "r": {
     "delete_cmd_postfix": ") ",
     "delete_cmd_prefix": "rm(",
     "library": "var_list.r",
     "varRefreshCmd": "cat(var_dic_list()) "
    }
   },
   "types_to_exclude": [
    "module",
    "function",
    "builtin_function_or_method",
    "instance",
    "_Feature"
   ],
   "window_display": true
  }
 },
 "nbformat": 4,
 "nbformat_minor": 2
}
